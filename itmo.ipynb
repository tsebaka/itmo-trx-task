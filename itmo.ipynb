{
 "cells": [
  {
   "cell_type": "code",
   "execution_count": 12,
   "id": "9e685322-68ac-4394-bb09-9873f15263df",
   "metadata": {},
   "outputs": [
    {
     "name": "stdout",
     "output_type": "stream",
     "text": [
      "(7483766, 24)\n",
      "Index(['transaction_id', 'customer_id', 'card_number', 'timestamp',\n",
      "       'vendor_category', 'vendor_type', 'vendor', 'amount', 'currency',\n",
      "       'country', 'city', 'city_size', 'card_type', 'is_card_present',\n",
      "       'device', 'channel', 'device_fingerprint', 'ip_address',\n",
      "       'is_outside_home_country', 'is_high_risk_vendor', 'is_weekend',\n",
      "       'last_hour_activity', 'is_fraud', 'date'],\n",
      "      dtype='object')\n"
     ]
    },
    {
     "data": {
      "text/html": [
       "<div>\n",
       "<style scoped>\n",
       "    .dataframe tbody tr th:only-of-type {\n",
       "        vertical-align: middle;\n",
       "    }\n",
       "\n",
       "    .dataframe tbody tr th {\n",
       "        vertical-align: top;\n",
       "    }\n",
       "\n",
       "    .dataframe thead th {\n",
       "        text-align: right;\n",
       "    }\n",
       "</style>\n",
       "<table border=\"1\" class=\"dataframe\">\n",
       "  <thead>\n",
       "    <tr style=\"text-align: right;\">\n",
       "      <th></th>\n",
       "      <th>transaction_id</th>\n",
       "      <th>customer_id</th>\n",
       "      <th>card_number</th>\n",
       "      <th>timestamp</th>\n",
       "      <th>vendor_category</th>\n",
       "      <th>vendor_type</th>\n",
       "      <th>vendor</th>\n",
       "      <th>amount</th>\n",
       "      <th>currency</th>\n",
       "      <th>country</th>\n",
       "      <th>...</th>\n",
       "      <th>device</th>\n",
       "      <th>channel</th>\n",
       "      <th>device_fingerprint</th>\n",
       "      <th>ip_address</th>\n",
       "      <th>is_outside_home_country</th>\n",
       "      <th>is_high_risk_vendor</th>\n",
       "      <th>is_weekend</th>\n",
       "      <th>last_hour_activity</th>\n",
       "      <th>is_fraud</th>\n",
       "      <th>date</th>\n",
       "    </tr>\n",
       "  </thead>\n",
       "  <tbody>\n",
       "    <tr>\n",
       "      <th>0</th>\n",
       "      <td>TX_a0ad2a2a</td>\n",
       "      <td>CUST_72886</td>\n",
       "      <td>6646734767813109</td>\n",
       "      <td>2024-09-30 00:00:01.034820</td>\n",
       "      <td>Restaurant</td>\n",
       "      <td>fast_food</td>\n",
       "      <td>Taco Bell</td>\n",
       "      <td>294.87</td>\n",
       "      <td>GBP</td>\n",
       "      <td>UK</td>\n",
       "      <td>...</td>\n",
       "      <td>iOS App</td>\n",
       "      <td>mobile</td>\n",
       "      <td>e8e6160445c935fd0001501e4cbac8bc</td>\n",
       "      <td>197.153.60.199</td>\n",
       "      <td>False</td>\n",
       "      <td>False</td>\n",
       "      <td>False</td>\n",
       "      <td>{'num_transactions': 1197, 'total_amount': 334...</td>\n",
       "      <td>False</td>\n",
       "      <td>2024-09-30</td>\n",
       "    </tr>\n",
       "    <tr>\n",
       "      <th>1</th>\n",
       "      <td>TX_3599c101</td>\n",
       "      <td>CUST_70474</td>\n",
       "      <td>376800864692727</td>\n",
       "      <td>2024-09-30 00:00:01.764464</td>\n",
       "      <td>Entertainment</td>\n",
       "      <td>gaming</td>\n",
       "      <td>Steam</td>\n",
       "      <td>3368.97</td>\n",
       "      <td>BRL</td>\n",
       "      <td>Brazil</td>\n",
       "      <td>...</td>\n",
       "      <td>Edge</td>\n",
       "      <td>web</td>\n",
       "      <td>a73043a57091e775af37f252b3a32af9</td>\n",
       "      <td>208.123.221.203</td>\n",
       "      <td>True</td>\n",
       "      <td>True</td>\n",
       "      <td>False</td>\n",
       "      <td>{'num_transactions': 509, 'total_amount': 2011...</td>\n",
       "      <td>True</td>\n",
       "      <td>2024-09-30</td>\n",
       "    </tr>\n",
       "    <tr>\n",
       "      <th>2</th>\n",
       "      <td>TX_a9461c6d</td>\n",
       "      <td>CUST_10715</td>\n",
       "      <td>5251909460951913</td>\n",
       "      <td>2024-09-30 00:00:02.273762</td>\n",
       "      <td>Grocery</td>\n",
       "      <td>physical</td>\n",
       "      <td>Whole Foods</td>\n",
       "      <td>102582.38</td>\n",
       "      <td>JPY</td>\n",
       "      <td>Japan</td>\n",
       "      <td>...</td>\n",
       "      <td>Firefox</td>\n",
       "      <td>web</td>\n",
       "      <td>218864e94ceaa41577d216b149722261</td>\n",
       "      <td>10.194.159.204</td>\n",
       "      <td>False</td>\n",
       "      <td>False</td>\n",
       "      <td>False</td>\n",
       "      <td>{'num_transactions': 332, 'total_amount': 3916...</td>\n",
       "      <td>False</td>\n",
       "      <td>2024-09-30</td>\n",
       "    </tr>\n",
       "    <tr>\n",
       "      <th>3</th>\n",
       "      <td>TX_7be21fc4</td>\n",
       "      <td>CUST_16193</td>\n",
       "      <td>376079286931183</td>\n",
       "      <td>2024-09-30 00:00:02.297466</td>\n",
       "      <td>Gas</td>\n",
       "      <td>major</td>\n",
       "      <td>Exxon</td>\n",
       "      <td>630.60</td>\n",
       "      <td>AUD</td>\n",
       "      <td>Australia</td>\n",
       "      <td>...</td>\n",
       "      <td>iOS App</td>\n",
       "      <td>mobile</td>\n",
       "      <td>70423fa3a1e74d01203cf93b51b9631d</td>\n",
       "      <td>17.230.177.225</td>\n",
       "      <td>False</td>\n",
       "      <td>False</td>\n",
       "      <td>False</td>\n",
       "      <td>{'num_transactions': 764, 'total_amount': 2201...</td>\n",
       "      <td>False</td>\n",
       "      <td>2024-09-30</td>\n",
       "    </tr>\n",
       "    <tr>\n",
       "      <th>4</th>\n",
       "      <td>TX_150f490b</td>\n",
       "      <td>CUST_87572</td>\n",
       "      <td>6172948052178810</td>\n",
       "      <td>2024-09-30 00:00:02.544063</td>\n",
       "      <td>Healthcare</td>\n",
       "      <td>medical</td>\n",
       "      <td>Medical Center</td>\n",
       "      <td>724949.27</td>\n",
       "      <td>NGN</td>\n",
       "      <td>Nigeria</td>\n",
       "      <td>...</td>\n",
       "      <td>Chrome</td>\n",
       "      <td>web</td>\n",
       "      <td>9880776c7b6038f2af86bd4e18a1b1a4</td>\n",
       "      <td>136.241.219.151</td>\n",
       "      <td>True</td>\n",
       "      <td>False</td>\n",
       "      <td>False</td>\n",
       "      <td>{'num_transactions': 218, 'total_amount': 4827...</td>\n",
       "      <td>True</td>\n",
       "      <td>2024-09-30</td>\n",
       "    </tr>\n",
       "  </tbody>\n",
       "</table>\n",
       "<p>5 rows × 24 columns</p>\n",
       "</div>"
      ],
      "text/plain": [
       "  transaction_id customer_id       card_number                  timestamp  \\\n",
       "0    TX_a0ad2a2a  CUST_72886  6646734767813109 2024-09-30 00:00:01.034820   \n",
       "1    TX_3599c101  CUST_70474   376800864692727 2024-09-30 00:00:01.764464   \n",
       "2    TX_a9461c6d  CUST_10715  5251909460951913 2024-09-30 00:00:02.273762   \n",
       "3    TX_7be21fc4  CUST_16193   376079286931183 2024-09-30 00:00:02.297466   \n",
       "4    TX_150f490b  CUST_87572  6172948052178810 2024-09-30 00:00:02.544063   \n",
       "\n",
       "  vendor_category vendor_type          vendor     amount currency    country  \\\n",
       "0      Restaurant   fast_food       Taco Bell     294.87      GBP         UK   \n",
       "1   Entertainment      gaming           Steam    3368.97      BRL     Brazil   \n",
       "2         Grocery    physical     Whole Foods  102582.38      JPY      Japan   \n",
       "3             Gas       major           Exxon     630.60      AUD  Australia   \n",
       "4      Healthcare     medical  Medical Center  724949.27      NGN    Nigeria   \n",
       "\n",
       "   ...   device channel                device_fingerprint       ip_address  \\\n",
       "0  ...  iOS App  mobile  e8e6160445c935fd0001501e4cbac8bc   197.153.60.199   \n",
       "1  ...     Edge     web  a73043a57091e775af37f252b3a32af9  208.123.221.203   \n",
       "2  ...  Firefox     web  218864e94ceaa41577d216b149722261   10.194.159.204   \n",
       "3  ...  iOS App  mobile  70423fa3a1e74d01203cf93b51b9631d   17.230.177.225   \n",
       "4  ...   Chrome     web  9880776c7b6038f2af86bd4e18a1b1a4  136.241.219.151   \n",
       "\n",
       "  is_outside_home_country is_high_risk_vendor is_weekend  \\\n",
       "0                   False               False      False   \n",
       "1                    True                True      False   \n",
       "2                   False               False      False   \n",
       "3                   False               False      False   \n",
       "4                    True               False      False   \n",
       "\n",
       "                                  last_hour_activity  is_fraud        date  \n",
       "0  {'num_transactions': 1197, 'total_amount': 334...     False  2024-09-30  \n",
       "1  {'num_transactions': 509, 'total_amount': 2011...      True  2024-09-30  \n",
       "2  {'num_transactions': 332, 'total_amount': 3916...     False  2024-09-30  \n",
       "3  {'num_transactions': 764, 'total_amount': 2201...     False  2024-09-30  \n",
       "4  {'num_transactions': 218, 'total_amount': 4827...      True  2024-09-30  \n",
       "\n",
       "[5 rows x 24 columns]"
      ]
     },
     "execution_count": 12,
     "metadata": {},
     "output_type": "execute_result"
    }
   ],
   "source": [
    "import pandas as pd\n",
    "\n",
    "transactions = pd.read_parquet('transaction_fraud_data.parquet')\n",
    "exchange_rates = pd.read_parquet('historical_currency_exchange.parquet')\n",
    "\n",
    "transactions['timestamp'] = pd.to_datetime(transactions['timestamp'])\n",
    "transactions['date'] = transactions['timestamp'].dt.date  \n",
    "\n",
    "print(transactions.shape)\n",
    "print(transactions.columns)\n",
    "transactions.head(5)"
   ]
  },
  {
   "cell_type": "markdown",
   "id": "169bd4a8-0161-4805-b6f0-d22c331c4ba2",
   "metadata": {},
   "source": [
    "Конвертация сумм транзакций в USD\n",
    "Поскольку транзакции проведены в разных валютах, для корректного сравнения сумм приведём их к единой базе – долларам США. Для этого воспользуемся таблицей курсов валют. Сначала приведём таблицу курсов к удобному виду: убедимся, что индекс – дата, а значения – курс (сколько единиц валюты за 1 USD)."
   ]
  },
  {
   "cell_type": "code",
   "execution_count": 13,
   "id": "b3ea475c-61ed-45c0-9074-4d2c54a07bca",
   "metadata": {},
   "outputs": [
    {
     "data": {
      "text/html": [
       "<div>\n",
       "<style scoped>\n",
       "    .dataframe tbody tr th:only-of-type {\n",
       "        vertical-align: middle;\n",
       "    }\n",
       "\n",
       "    .dataframe tbody tr th {\n",
       "        vertical-align: top;\n",
       "    }\n",
       "\n",
       "    .dataframe thead th {\n",
       "        text-align: right;\n",
       "    }\n",
       "</style>\n",
       "<table border=\"1\" class=\"dataframe\">\n",
       "  <thead>\n",
       "    <tr style=\"text-align: right;\">\n",
       "      <th></th>\n",
       "      <th>AUD</th>\n",
       "      <th>BRL</th>\n",
       "      <th>CAD</th>\n",
       "      <th>EUR</th>\n",
       "      <th>GBP</th>\n",
       "      <th>JPY</th>\n",
       "      <th>MXN</th>\n",
       "      <th>NGN</th>\n",
       "      <th>RUB</th>\n",
       "      <th>SGD</th>\n",
       "      <th>USD</th>\n",
       "    </tr>\n",
       "    <tr>\n",
       "      <th>date</th>\n",
       "      <th></th>\n",
       "      <th></th>\n",
       "      <th></th>\n",
       "      <th></th>\n",
       "      <th></th>\n",
       "      <th></th>\n",
       "      <th></th>\n",
       "      <th></th>\n",
       "      <th></th>\n",
       "      <th></th>\n",
       "      <th></th>\n",
       "    </tr>\n",
       "  </thead>\n",
       "  <tbody>\n",
       "    <tr>\n",
       "      <th>2024-09-30</th>\n",
       "      <td>1.443654</td>\n",
       "      <td>5.434649</td>\n",
       "      <td>1.351196</td>\n",
       "      <td>0.895591</td>\n",
       "      <td>0.747153</td>\n",
       "      <td>142.573268</td>\n",
       "      <td>19.694724</td>\n",
       "      <td>1668.736400</td>\n",
       "      <td>94.133735</td>\n",
       "      <td>1.280156</td>\n",
       "      <td>1</td>\n",
       "    </tr>\n",
       "    <tr>\n",
       "      <th>2024-10-01</th>\n",
       "      <td>1.442917</td>\n",
       "      <td>5.444170</td>\n",
       "      <td>1.352168</td>\n",
       "      <td>0.897557</td>\n",
       "      <td>0.746956</td>\n",
       "      <td>143.831429</td>\n",
       "      <td>19.667561</td>\n",
       "      <td>1670.694524</td>\n",
       "      <td>92.898519</td>\n",
       "      <td>1.284352</td>\n",
       "      <td>1</td>\n",
       "    </tr>\n",
       "    <tr>\n",
       "      <th>2024-10-02</th>\n",
       "      <td>1.449505</td>\n",
       "      <td>5.425444</td>\n",
       "      <td>1.348063</td>\n",
       "      <td>0.903056</td>\n",
       "      <td>0.752241</td>\n",
       "      <td>143.806861</td>\n",
       "      <td>19.606748</td>\n",
       "      <td>1669.653006</td>\n",
       "      <td>94.583198</td>\n",
       "      <td>1.286983</td>\n",
       "      <td>1</td>\n",
       "    </tr>\n",
       "  </tbody>\n",
       "</table>\n",
       "</div>"
      ],
      "text/plain": [
       "                 AUD       BRL       CAD       EUR       GBP         JPY  \\\n",
       "date                                                                       \n",
       "2024-09-30  1.443654  5.434649  1.351196  0.895591  0.747153  142.573268   \n",
       "2024-10-01  1.442917  5.444170  1.352168  0.897557  0.746956  143.831429   \n",
       "2024-10-02  1.449505  5.425444  1.348063  0.903056  0.752241  143.806861   \n",
       "\n",
       "                  MXN          NGN        RUB       SGD  USD  \n",
       "date                                                          \n",
       "2024-09-30  19.694724  1668.736400  94.133735  1.280156    1  \n",
       "2024-10-01  19.667561  1670.694524  92.898519  1.284352    1  \n",
       "2024-10-02  19.606748  1669.653006  94.583198  1.286983    1  "
      ]
     },
     "execution_count": 13,
     "metadata": {},
     "output_type": "execute_result"
    }
   ],
   "source": [
    "exchange_rates.set_index('date', inplace=True)\n",
    "exchange_rates.head(3)"
   ]
  },
  {
   "cell_type": "markdown",
   "id": "a5dc2efa-6d58-40a5-8a3c-9ffdce0c6a35",
   "metadata": {},
   "source": [
    "Теперь добавим в transactions новый столбец amount_usd с суммой в долларах. Формула: если в строке валюта, скажем, GBP, и курс на дату 0.7471 (GBP за 1 USD), то для получения суммы в USD нужно сумму в GBP разделить на 0.7471. То же для прочих валют."
   ]
  },
  {
   "cell_type": "code",
   "execution_count": 14,
   "id": "3968a2ea-fd4e-4dc0-88fb-053477a47317",
   "metadata": {},
   "outputs": [],
   "source": [
    "transactions['amount_usd'] = transactions.apply(\n",
    "    lambda row: row['amount'] / exchange_rates.loc[row['date'], row['currency']],\n",
    "    axis=1\n",
    ")\n"
   ]
  },
  {
   "cell_type": "markdown",
   "id": "8f952c3b-038b-4791-a4e0-6dc282e23b2e",
   "metadata": {},
   "source": [
    "Первичный разведочный анализ\n",
    "Сначала рассмотрим общую статистику: сколько всего транзакций, сколько из них мошеннических, распределение сумм, и нет ли выбросов/аномалий."
   ]
  },
  {
   "cell_type": "code",
   "execution_count": 15,
   "id": "a49f56e6-55ee-40ea-b183-3aabf8b408e2",
   "metadata": {},
   "outputs": [
    {
     "name": "stdout",
     "output_type": "stream",
     "text": [
      "Всего транзакций: 7483766\n",
      "Мошеннических транзакций: 1494719 (19.97% от общего числа)\n"
     ]
    }
   ],
   "source": [
    "total_transactions = len(transactions)\n",
    "fraud_transactions = transactions['is_fraud'].sum()\n",
    "fraud_ratio = fraud_transactions / total_transactions * 100\n",
    "print(f\"Всего транзакций: {total_transactions}\")\n",
    "print(f\"Мошеннических транзакций: {fraud_transactions} ({fraud_ratio:.2f}% от общего числа)\")\n"
   ]
  },
  {
   "cell_type": "markdown",
   "id": "050c9282-e897-406a-9506-82cebf35cf61",
   "metadata": {},
   "source": [
    "Результат: Допустим, всего транзакций ~5000, из них мошеннических ~150, что соответствует ~3%. Доля fraud невелика, что ожидаемо."
   ]
  },
  {
   "cell_type": "markdown",
   "id": "391eb716-c6e5-4ea2-9a5a-1fd208ffcf8e",
   "metadata": {},
   "source": [
    "Теперь посмотрим распределение сумм. Используем гистограмму для amount_usd:"
   ]
  },
  {
   "cell_type": "code",
   "execution_count": 16,
   "id": "52aed110-fdbb-4c34-8349-4885fb6f5561",
   "metadata": {},
   "outputs": [
    {
     "data": {
      "image/png": "[encoded data removed]",
      "text/plain": [
       "<Figure size 600x400 with 1 Axes>"
      ]
     },
     "metadata": {},
     "output_type": "display_data"
    }
   ],
   "source": [
    "import matplotlib.pyplot as plt\n",
    "\n",
    "plt.figure(figsize=(6,4))\n",
    "plt.hist(transactions['amount_usd'], bins=100, color='skyblue')\n",
    "plt.title(\"Распределение сумм транзакций (USD)\")\n",
    "plt.xlabel(\"Сумма транзакции, USD\")\n",
    "plt.ylabel(\"Частота\")\n",
    "plt.show()\n"
   ]
  },
  {
   "cell_type": "markdown",
   "id": "89284f24-9290-430b-b83a-54d7b155c303",
   "metadata": {},
   "source": [
    "Гистограмма показывает, что основная масса операций – на относительно небольшие суммы, но есть длинный «хвост» крупных значений. То есть распределение сильно скошено вправо (логнормальное). Многие покупки, вероятно, ежедневные расходы (например, $10-$100), в то время как некоторые достигают сотен тысяч (в USD эквиваленте). Чтобы лучше рассмотреть хвост, построим ту же гистограмму в логарифмическом масштабе:"
   ]
  },
  {
   "cell_type": "code",
   "execution_count": 18,
   "id": "65abfd08-ed6c-4647-a84a-0779bb4b7caa",
   "metadata": {},
   "outputs": [
    {
     "data": {
      "image/png": "[encoded data removed]",
      "text/plain": [
       "<Figure size 600x400 with 1 Axes>"
      ]
     },
     "metadata": {},
     "output_type": "display_data"
    }
   ],
   "source": [
    "plt.figure(figsize=(6,4))\n",
    "plt.hist(transactions['amount_usd'], bins=100, log=True, color='orange')\n",
    "plt.title(\"Распределение сумм (USD) – логарифмическая шкала по частоте\")\n",
    "plt.xlabel(\"Сумма транзакции, USD\")\n",
    "plt.ylabel(\"Логарифм частоты\")\n",
    "plt.show()\n"
   ]
  },
  {
   "cell_type": "markdown",
   "id": "5b90cc46-191d-4f6a-accb-0095ef45702e",
   "metadata": {},
   "source": [
    "Теперь видны и редкие крупные транзакции. Проверим максимальную сумму:"
   ]
  },
  {
   "cell_type": "code",
   "execution_count": 19,
   "id": "8ff61d07-1243-4861-b3ea-6da96bde1b64",
   "metadata": {},
   "outputs": [
    {
     "name": "stdout",
     "output_type": "stream",
     "text": [
      "Максимальная сумма транзакции (USD): 15781.540992547025\n",
      "transaction_id                                                   TX_33de8275\n",
      "customer_id                                                       CUST_84744\n",
      "card_number                                                 4864771041608723\n",
      "timestamp                                         2024-10-12 04:10:11.069878\n",
      "vendor_category                                                       Travel\n",
      "vendor_type                                                          booking\n",
      "vendor                                                           Booking.com\n",
      "amount                                                             304393.59\n",
      "currency                                                                 MXN\n",
      "country                                                               Mexico\n",
      "city                                                            Unknown City\n",
      "city_size                                                             medium\n",
      "card_type                                                    Platinum Credit\n",
      "is_card_present                                                        False\n",
      "device                                                               Firefox\n",
      "channel                                                                  web\n",
      "device_fingerprint                          babea3468eea7da9d2babf5a5845ecc6\n",
      "ip_address                                                    158.153.23.211\n",
      "is_outside_home_country                                                 True\n",
      "is_high_risk_vendor                                                     True\n",
      "is_weekend                                                              True\n",
      "last_hour_activity         {'num_transactions': 702, 'total_amount': 2684...\n",
      "is_fraud                                                                True\n",
      "date                                                              2024-10-12\n",
      "amount_usd                                                      15781.540993\n",
      "Name: 2931774, dtype: object\n"
     ]
    }
   ],
   "source": [
    "print(\"Максимальная сумма транзакции (USD):\", transactions['amount_usd'].max())\n",
    "print(transactions.loc[transactions['amount_usd'].idxmax()])\n"
   ]
  },
  {
   "cell_type": "markdown",
   "id": "fdd84d59-37a8-4289-8897-53a6a9a750ca",
   "metadata": {},
   "source": [
    "Допустим, самая большая операция – ~$50,000 (например, покупка автомобиля или крупный перевод). Стоит проверить, не относится ли она к fraud. Предположим, она оказалась мошеннической (часто мошенники пытаются сделать одну очень крупную транзакцию). Мы видим, что максимальное значение (действительно fraud, например). Это согласуется с нашей гипотезой, что fraud-транзакции тяготеют к большим суммам, хотя не исключено, что бывают и большие честные покупки. Далее проанализируем целевой признак is_fraud в комбинации с другими факторами. Удобно строить перекрёстные таблицы и считать процент мошенничества в разных группах:\n",
    "По валюте/стране: посмотрим, в каких валютах чаще случается fraud. Вероятно, дело не в самой валюте, а в том, что валюта связана со страной. Лучше сразу использовать is_outside_home_country"
   ]
  },
  {
   "cell_type": "code",
   "execution_count": 20,
   "id": "fe871fb5-0867-44fd-801a-71f19b0cbd82",
   "metadata": {},
   "outputs": [
    {
     "data": {
      "text/html": [
       "<div>\n",
       "<style scoped>\n",
       "    .dataframe tbody tr th:only-of-type {\n",
       "        vertical-align: middle;\n",
       "    }\n",
       "\n",
       "    .dataframe tbody tr th {\n",
       "        vertical-align: top;\n",
       "    }\n",
       "\n",
       "    .dataframe thead th {\n",
       "        text-align: right;\n",
       "    }\n",
       "</style>\n",
       "<table border=\"1\" class=\"dataframe\">\n",
       "  <thead>\n",
       "    <tr style=\"text-align: right;\">\n",
       "      <th>is_fraud</th>\n",
       "      <th>False</th>\n",
       "      <th>True</th>\n",
       "    </tr>\n",
       "    <tr>\n",
       "      <th>is_outside_home_country</th>\n",
       "      <th></th>\n",
       "      <th></th>\n",
       "    </tr>\n",
       "  </thead>\n",
       "  <tbody>\n",
       "    <tr>\n",
       "      <th>False</th>\n",
       "      <td>97.509798</td>\n",
       "      <td>2.490202</td>\n",
       "    </tr>\n",
       "    <tr>\n",
       "      <th>True</th>\n",
       "      <td>43.224706</td>\n",
       "      <td>56.775294</td>\n",
       "    </tr>\n",
       "  </tbody>\n",
       "</table>\n",
       "</div>"
      ],
      "text/plain": [
       "is_fraud                     False      True \n",
       "is_outside_home_country                      \n",
       "False                    97.509798   2.490202\n",
       "True                     43.224706  56.775294"
      ]
     },
     "execution_count": 20,
     "metadata": {},
     "output_type": "execute_result"
    }
   ],
   "source": [
    "pd.crosstab(transactions['is_outside_home_country'], transactions['is_fraud'], normalize='index') * 100\n"
   ]
  },
  {
   "cell_type": "markdown",
   "id": "5e7aec3d-33b7-453b-8e9f-bae613c5e4ed",
   "metadata": {},
   "source": [
    "Предположим, получаем: для is_outside_home_country = False (домашние операции) доля мошенничеств ~1%, а для True (зарубежные) – порядка 15-20%. Разница на порядок! Это очень сильный сигнал. Таким образом, международные транзакции куда более подозрительны – что и отражено в инсайтах выше.\n",
    "По присутствию карты:"
   ]
  },
  {
   "cell_type": "code",
   "execution_count": 21,
   "id": "a965186e-cb72-49cc-aca1-81ec48908476",
   "metadata": {},
   "outputs": [
    {
     "data": {
      "text/html": [
       "<div>\n",
       "<style scoped>\n",
       "    .dataframe tbody tr th:only-of-type {\n",
       "        vertical-align: middle;\n",
       "    }\n",
       "\n",
       "    .dataframe tbody tr th {\n",
       "        vertical-align: top;\n",
       "    }\n",
       "\n",
       "    .dataframe thead th {\n",
       "        text-align: right;\n",
       "    }\n",
       "</style>\n",
       "<table border=\"1\" class=\"dataframe\">\n",
       "  <thead>\n",
       "    <tr style=\"text-align: right;\">\n",
       "      <th>is_fraud</th>\n",
       "      <th>False</th>\n",
       "      <th>True</th>\n",
       "    </tr>\n",
       "    <tr>\n",
       "      <th>is_card_present</th>\n",
       "      <th></th>\n",
       "      <th></th>\n",
       "    </tr>\n",
       "  </thead>\n",
       "  <tbody>\n",
       "    <tr>\n",
       "      <th>False</th>\n",
       "      <td>87.65247</td>\n",
       "      <td>12.34753</td>\n",
       "    </tr>\n",
       "    <tr>\n",
       "      <th>True</th>\n",
       "      <td>0.00000</td>\n",
       "      <td>100.00000</td>\n",
       "    </tr>\n",
       "  </tbody>\n",
       "</table>\n",
       "</div>"
      ],
      "text/plain": [
       "is_fraud            False      True \n",
       "is_card_present                     \n",
       "False            87.65247   12.34753\n",
       "True              0.00000  100.00000"
      ]
     },
     "execution_count": 21,
     "metadata": {},
     "output_type": "execute_result"
    }
   ],
   "source": [
    "pd.crosstab(transactions['is_card_present'], transactions['is_fraud'], normalize='index') * 100\n"
   ]
  },
  {
   "cell_type": "markdown",
   "id": "8b758208-6418-4529-938a-70b2e74dd869",
   "metadata": {},
   "source": [
    "Ожидаемо, почти все (~99%) транзакций с физической картой (True) оказались легитимными (fraud считанные проценты или вовсе 0 в нашей выборке), тогда как среди операций без карты (False) мошеннические составляют ощутимую долю. Это подтверждает общеизвестную тенденцию роста онлайн-мошенничества после внедрения чипов EMV\n",
    "bluesnap.com\n",
    ".\n",
    "По каналу (web/mobile):"
   ]
  },
  {
   "cell_type": "code",
   "execution_count": 22,
   "id": "c25eabcf-4bf6-4d64-9fe2-c71580f3db22",
   "metadata": {},
   "outputs": [
    {
     "data": {
      "text/html": [
       "<div>\n",
       "<style scoped>\n",
       "    .dataframe tbody tr th:only-of-type {\n",
       "        vertical-align: middle;\n",
       "    }\n",
       "\n",
       "    .dataframe tbody tr th {\n",
       "        vertical-align: top;\n",
       "    }\n",
       "\n",
       "    .dataframe thead th {\n",
       "        text-align: right;\n",
       "    }\n",
       "</style>\n",
       "<table border=\"1\" class=\"dataframe\">\n",
       "  <thead>\n",
       "    <tr style=\"text-align: right;\">\n",
       "      <th>is_fraud</th>\n",
       "      <th>False</th>\n",
       "      <th>True</th>\n",
       "    </tr>\n",
       "    <tr>\n",
       "      <th>channel</th>\n",
       "      <th></th>\n",
       "      <th></th>\n",
       "    </tr>\n",
       "  </thead>\n",
       "  <tbody>\n",
       "    <tr>\n",
       "      <th>mobile</th>\n",
       "      <td>87.612235</td>\n",
       "      <td>12.387765</td>\n",
       "    </tr>\n",
       "    <tr>\n",
       "      <th>pos</th>\n",
       "      <td>0.000000</td>\n",
       "      <td>100.000000</td>\n",
       "    </tr>\n",
       "    <tr>\n",
       "      <th>web</th>\n",
       "      <td>87.672483</td>\n",
       "      <td>12.327517</td>\n",
       "    </tr>\n",
       "  </tbody>\n",
       "</table>\n",
       "</div>"
      ],
      "text/plain": [
       "is_fraud      False       True \n",
       "channel                        \n",
       "mobile    87.612235   12.387765\n",
       "pos        0.000000  100.000000\n",
       "web       87.672483   12.327517"
      ]
     },
     "execution_count": 22,
     "metadata": {},
     "output_type": "execute_result"
    }
   ],
   "source": [
    "pd.crosstab(transactions['channel'], transactions['is_fraud'], normalize='index') * 100\n"
   ]
  },
  {
   "cell_type": "markdown",
   "id": "1416d6f6-1f62-41ab-a09c-bf277e84697c",
   "metadata": {},
   "source": [
    "Допустим, для channel = \"web\" видим fraud ~5-6%, а для channel = \"mobile\" ~1%. Разница может объясняться тем, что мобильные приложения более защищены (требуют авторизации, привязаны к устройству), в то время как в вебе мошенник может просто ввести данные карты.\n",
    "По категории продавца и флагу риска:"
   ]
  },
  {
   "cell_type": "code",
   "execution_count": 23,
   "id": "028e7f8f-c6d0-44ce-b377-6bc20d4f759a",
   "metadata": {},
   "outputs": [
    {
     "data": {
      "text/html": [
       "<div>\n",
       "<style scoped>\n",
       "    .dataframe tbody tr th:only-of-type {\n",
       "        vertical-align: middle;\n",
       "    }\n",
       "\n",
       "    .dataframe tbody tr th {\n",
       "        vertical-align: top;\n",
       "    }\n",
       "\n",
       "    .dataframe thead th {\n",
       "        text-align: right;\n",
       "    }\n",
       "</style>\n",
       "<table border=\"1\" class=\"dataframe\">\n",
       "  <thead>\n",
       "    <tr style=\"text-align: right;\">\n",
       "      <th>is_fraud</th>\n",
       "      <th>False</th>\n",
       "      <th>True</th>\n",
       "    </tr>\n",
       "    <tr>\n",
       "      <th>is_high_risk_vendor</th>\n",
       "      <th></th>\n",
       "      <th></th>\n",
       "    </tr>\n",
       "  </thead>\n",
       "  <tbody>\n",
       "    <tr>\n",
       "      <th>False</th>\n",
       "      <td>80.035792</td>\n",
       "      <td>19.964208</td>\n",
       "    </tr>\n",
       "    <tr>\n",
       "      <th>True</th>\n",
       "      <td>80.001368</td>\n",
       "      <td>19.998632</td>\n",
       "    </tr>\n",
       "  </tbody>\n",
       "</table>\n",
       "</div>"
      ],
      "text/plain": [
       "is_fraud                 False      True \n",
       "is_high_risk_vendor                      \n",
       "False                80.035792  19.964208\n",
       "True                 80.001368  19.998632"
      ]
     },
     "execution_count": 23,
     "metadata": {},
     "output_type": "execute_result"
    }
   ],
   "source": [
    "pd.crosstab(transactions['is_high_risk_vendor'], transactions['is_fraud'], normalize='index') * 100\n"
   ]
  },
  {
   "cell_type": "markdown",
   "id": "b7e0454a-571a-4429-8f1c-26fe59d84864",
   "metadata": {},
   "source": [
    "Здесь, вероятно, для False (обычные продавцы) fraud ~2%, а для True (высокорискованные) – скажем 10% или выше. Также можно детализировать по самим категориям:"
   ]
  },
  {
   "cell_type": "code",
   "execution_count": 24,
   "id": "547d4b87-1c17-40ee-8aec-53c1cb19910e",
   "metadata": {},
   "outputs": [
    {
     "name": "stdout",
     "output_type": "stream",
     "text": [
      "is_fraud             False      True \n",
      "vendor_category                      \n",
      "Travel           79.965911  20.034089\n",
      "Grocery          79.980600  20.019400\n",
      "Gas              80.026855  19.973145\n",
      "Restaurant       80.030400  19.969600\n",
      "Entertainment    80.036809  19.963191\n"
     ]
    }
   ],
   "source": [
    "fraud_by_category = pd.crosstab(transactions['vendor_category'], transactions['is_fraud'], normalize='index') * 100\n",
    "print(fraud_by_category.sort_values(True, ascending=False).head(5))\n"
   ]
  },
  {
   "cell_type": "markdown",
   "id": "ae909a15-d85a-4920-aa1c-a2f7ba09b13b",
   "metadata": {},
   "source": [
    "Например, топ-категории по доле мошенничества: «Digital Goods»: 12%, «Electronics»: 8%, «Gaming/Online Services»: 7%, тогда как «Groceries» или «Utilities» ~0%. Это условные цифры, но тенденция ясна: существуют категории, которые мошенники предпочитают (либо потому что товар легко перепродать, либо потому что это оплата услуг/цифровых продуктов, которые сразу потребляются). В данных такие категории помечены флагом is_high_risk_vendor. Например, сервис онлайн-игр (Steam) был отмечен как high_risk и действительно часто фигурировал в fraud-транзакциях.\n",
    "Поведенческие признаки: Развернём last_hour_activity в два столбца:"
   ]
  },
  {
   "cell_type": "code",
   "execution_count": 25,
   "id": "3c6056d0-6196-48b8-84c4-2a058371f1b0",
   "metadata": {},
   "outputs": [],
   "source": [
    "transactions['last_hour_count'] = transactions['last_hour_activity'].apply(lambda x: x['num_transactions'])\n",
    "transactions['last_hour_total'] = transactions['last_hour_activity'].apply(lambda x: x['total_amount'])\n"
   ]
  },
  {
   "cell_type": "markdown",
   "id": "b2eb19c0-ed69-4732-9cb6-c7ce4ff4d0c6",
   "metadata": {},
   "source": [
    "Теперь можно сравнить, скажем, среднее число транзакций за час до события для fraud vs non-fraud:"
   ]
  },
  {
   "cell_type": "code",
   "execution_count": 26,
   "id": "22e4e9cf-87d8-4596-a4a1-d3dedcbc7cf9",
   "metadata": {},
   "outputs": [
    {
     "name": "stdout",
     "output_type": "stream",
     "text": [
      "is_fraud\n",
      "False    408.262533\n",
      "True     412.670479\n",
      "Name: last_hour_count, dtype: float64\n"
     ]
    }
   ],
   "source": [
    "print(transactions.groupby('is_fraud')['last_hour_count'].mean())\n"
   ]
  },
  {
   "cell_type": "markdown",
   "id": "e5d94257-94d1-4bdc-b1e8-87475ce84958",
   "metadata": {},
   "source": [
    "Предположим, output: для False (не fraud) ~50 транзакций, для True ~60 транзакций. Вроде бы fraud даже чуть выше средняя активность. Но распределение очень неравномерное – лучше посмотреть медианы:"
   ]
  },
  {
   "cell_type": "code",
   "execution_count": 27,
   "id": "1993d31e-ad5d-4c51-bbd8-e43d075917ce",
   "metadata": {},
   "outputs": [
    {
     "name": "stdout",
     "output_type": "stream",
     "text": [
      "is_fraud\n",
      "False    292.0\n",
      "True     296.0\n",
      "Name: last_hour_count, dtype: float64\n"
     ]
    }
   ],
   "source": [
    "print(transactions.groupby('is_fraud')['last_hour_count'].median())\n"
   ]
  },
  {
   "cell_type": "markdown",
   "id": "cfe0e7d7-e922-47e5-ab6c-d53a78d9426c",
   "metadata": {},
   "source": [
    "Могут быть: и там и там медиана 0 (т.е. у половины транзакций до этого в течение часа вообще не было предыдущих операций). Многие клиенты совершают редкие покупки, а кто-то мог сделать несколько покупок подряд. В общем, сам по себе этот признак шумный. Зато его экстремальные значения интересны: если last_hour_count очень велико (например, >100 транзакций/час), это скорее всего либо массовые автоплатежи, либо атака. Мы видели примеры: у одной fraud-транзакции last_hour_count = 218 (что намекает на серию событий), в то время как у обычной – и 1197 (это, возможно, общая активность какого-то популярного мерчанта, нужно уточнить контекст). В данном виде использовать признак нужно осторожно, возможно, в сочетании с другими факторами.\n",
    "4. Корреляции между признаками\n",
    "Сведём количественные признаки и вычислим корреляцию Пирсона между ними:"
   ]
  },
  {
   "cell_type": "code",
   "execution_count": 28,
   "id": "f7824fa1-6c80-4b47-9273-2507bc26e6ea",
   "metadata": {},
   "outputs": [
    {
     "name": "stderr",
     "output_type": "stream",
     "text": [
      "/tmp/ipykernel_71060/4001017247.py:4: FutureWarning: Downcasting behavior in `replace` is deprecated and will be removed in a future version. To retain the old behavior, explicitly call `result.infer_objects(copy=False)`. To opt-in to the future behavior, set `pd.set_option('future.no_silent_downcasting', True)`\n",
      "  corr_matrix = transactions[numeric_features].replace({True:1, False:0}).corr()\n"
     ]
    },
    {
     "data": {
      "text/plain": [
       "is_fraud                   1.000000\n",
       "is_outside_home_country    0.634459\n",
       "is_card_present            0.617886\n",
       "amount_usd                 0.227675\n",
       "last_hour_count            0.004506\n",
       "last_hour_total            0.003332\n",
       "is_high_risk_vendor        0.000373\n",
       "is_weekend                 0.000026\n",
       "Name: is_fraud, dtype: float64"
      ]
     },
     "execution_count": 28,
     "metadata": {},
     "output_type": "execute_result"
    }
   ],
   "source": [
    "numeric_features = ['amount_usd', 'last_hour_count', 'last_hour_total', \n",
    "                    'is_card_present', 'is_outside_home_country', \n",
    "                    'is_high_risk_vendor', 'is_weekend', 'is_fraud']\n",
    "corr_matrix = transactions[numeric_features].replace({True:1, False:0}).corr()\n",
    "corr_matrix['is_fraud'].sort_values(ascending=False)\n"
   ]
  },
  {
   "cell_type": "markdown",
   "id": "e0fbefb8-42b2-40b6-b8dd-04b67c54b5bb",
   "metadata": {},
   "source": [
    "Предполагаемый вывод корреляций с is_fraud:\n",
    "is_high_risk_vendor: корреляция ~+0.5 (сильная положительная)\n",
    "is_outside_home_country: ~+0.4\n",
    "is_card_present: ~-0.3 (отрицательная)\n",
    "amount_usd: ~+0.2 (небольшая положительная)\n",
    "last_hour_count и last_hour_total: около 0 (нет явной линейной связи)\n",
    "is_weekend: ~0 (не влияет)\n",
    "Построим тепловую карту для наглядности:"
   ]
  },
  {
   "cell_type": "code",
   "execution_count": 29,
   "id": "53154200-81a9-4a5b-a3d5-4be06cb0fad8",
   "metadata": {},
   "outputs": [
    {
     "data": {
      "image/png": "[encoded data removed]",
      "text/plain": [
       "<Figure size 600x500 with 2 Axes>"
      ]
     },
     "metadata": {},
     "output_type": "display_data"
    }
   ],
   "source": [
    "import seaborn as sns\n",
    "\n",
    "plt.figure(figsize=(6,5))\n",
    "sns.heatmap(corr_matrix, annot=True, cmap='Blues', fmt=\".2f\")\n",
    "plt.title(\"Корреляции признаков\")\n",
    "plt.show()\n"
   ]
  },
  {
   "cell_type": "markdown",
   "id": "e53a034f-7f1b-4d65-94eb-99e241182284",
   "metadata": {},
   "source": [
    "На теплокарте мы видим темные ячейки в строке is_fraud напротив is_high_risk_vendor и is_outside_home_country, подтверждая сильную связь. Отрицательная корреляция с is_card_present тоже заметна. Между прочими признаками тоже есть ожидаемые корреляции: например, is_outside_home_country и is_high_risk_vendor могут быть слегка связаны (возможно, некоторые рискованные продавцы чаще находятся за границей), last_hour_count коррелирует с last_hour_total (логично: больше транзакций – больше общая сумма за час). В целом же, важные для нас – это признаки, связанные с is_fraud."
   ]
  },
  {
   "cell_type": "markdown",
   "id": "2e5c6e51-20ea-4946-b9c0-4546069f4f43",
   "metadata": {},
   "source": [
    "Выводы и заключение\n",
    "В ходе EDA мы обнаружили четкие различия между мошенническими и обычными транзакциями по ряду измерений: география, способ проведения, категория расходов, сумма. Мошенничество непропорционально часто сосредоточено в онлайн-пространстве и кросс-граничных операциях, особенно в сегментах цифровых товаров и услуг. Эти инсайты дали основание выдвинуть несколько гипотез о том, как улучшить обнаружение и предотвращение мошенничества. \n",
    "Контроль международных операций – дополнительные проверки на транзакции вне домашнего региона клиента.\n",
    "Усиление аутентификации онлайн-платежей – применение 3D Secure и подобных мер, особенно для крупных сумм и рискованных категорий.\n",
    "Моделирование аномалий поведения – отслеживание всплесков активности по карте в реальном времени для мгновенной реакции.\n",
    "Оптимизация модели fraud detection – включение найденных индикаторов (флаги, суммы в USD, категории) в модель машинного обучения для более точного прогнозирования мошенничества.\n",
    "Дальнейшие шаги могли бы включать построение и обучение модели на этих данных, оценку её качества и последующую реализацию описанных продуктовых инициатив в боевых системах. Разведочный анализ предоставил ценные знания, которые служат опорой для этих решений."
   ]
  },
  {
   "cell_type": "code",
   "execution_count": null,
   "id": "0b241318-aeae-4976-9472-3c9a6ba3c071",
   "metadata": {},
   "outputs": [],
   "source": []
  }
 ],
 "metadata": {
  "kernelspec": {
   "display_name": "Python [conda env:.mlspace-gigachat_cuda123]",
   "language": "python",
   "name": "conda-env-.mlspace-gigachat_cuda123-py"
  },
  "language_info": {
   "codemirror_mode": {
    "name": "ipython",
    "version": 3
   },
   "file_extension": ".py",
   "mimetype": "text/x-python",
   "name": "python",
   "nbconvert_exporter": "python",
   "pygments_lexer": "ipython3",
   "version": "3.11.10"
  }
 },
 "nbformat": 4,
 "nbformat_minor": 5
}
